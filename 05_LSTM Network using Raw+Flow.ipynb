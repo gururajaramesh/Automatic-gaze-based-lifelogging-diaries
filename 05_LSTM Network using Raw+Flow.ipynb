{
 "cells": [
  {
   "cell_type": "markdown",
   "metadata": {},
   "source": [
    "# LSTM Network using Raw+Flow\n",
    "Using Recurrent neural network techniques, we trained our model to classify different types of activities performed by a person in a day. Our dataset was collected using a Mobile eye tracker from 10 persons.It consists of the gaze data recorded using eye camera and the scene data recorded using scene camera.We use a sampling frequency of 10 seconds for raw image and gaze data. Then, We generate the optical flow image using the raw images.\n",
    "\n",
    "We split the data into 3 parts. 7 persons for training, 2 persons for testing, 1 person for validation\n",
    "\n",
    "In this model, we use two different modalities of data such as raw image and optical flow image as input.\n",
    "\n",
    "This model achieved a hamming loss of 0.2305 and predicted 9 different patterns"
   ]
  },
  {
   "cell_type": "code",
   "execution_count": 12,
   "metadata": {
    "scrolled": true
   },
   "outputs": [],
   "source": [
    "#import the required library functions\n",
    "from keras.applications.vgg16 import VGG16\n",
    "from keras.models import Model\n",
    "from keras.layers import Dense, Input, Dropout\n",
    "from keras.layers.pooling import GlobalAveragePooling2D\n",
    "from keras.layers.recurrent import LSTM\n",
    "from keras.layers.wrappers import TimeDistributed\n",
    "from keras.optimizers import Nadam\n",
    "from keras.layers.merge import concatenate\n",
    "from keras import regularizers\n",
    "import keras\n",
    "import numpy as np\n",
    "import cv2\n",
    "import tensorflow as tf\n",
    "import pandas as pd\n",
    "import h5py\n",
    "from pathlib import Path\n",
    "import matplotlib.pyplot as plt\n",
    "from keras.layers.core import Reshape\n",
    "import keras.backend as K\n",
    "import datetime\n",
    "import time\n",
    "import telegram\n",
    "from keras import metrics\n",
    "from keras.callbacks import TensorBoard, ModelCheckpoint, ReduceLROnPlateau, Callback"
   ]
  },
  {
   "cell_type": "markdown",
   "metadata": {},
   "source": [
    "# Callbacks"
   ]
  },
  {
   "cell_type": "code",
   "execution_count": 13,
   "metadata": {},
   "outputs": [],
   "source": [
    "class TelegramCallback(Callback):\n",
    "\n",
    "    def __init__(self, config):\n",
    "        super(TelegramCallback, self).__init__()\n",
    "        self.user_id = config['telegram_id']\n",
    "        self.model_name = config['model_name']\n",
    "        self.bot = telegram.Bot(config['token'])\n",
    "\n",
    "    def send_message(self, text):\n",
    "        try:\n",
    "            self.bot.send_message(chat_id=self.user_id, text=text)\n",
    "        except Exception as e:\n",
    "            print('Message did not send. Error: {}.'.format(e))\n",
    "\n",
    "    def on_train_begin(self, logs={}):\n",
    "        text = 'Start training model {} | {}'.format(self.model.name, self.model_name)\n",
    "        self.send_message(text)\n",
    "\n",
    "    def on_epoch_end(self, epoch, logs={}):\n",
    "        text = '{} | Epoch {}.\\n'.format(self.model_name, epoch)\n",
    "        for k, v in logs.items():\n",
    "            text += '{}: {:.4f}; '.format(k, v)\n",
    "        self.send_message(text)"
   ]
  },
  {
   "cell_type": "code",
   "execution_count": 14,
   "metadata": {},
   "outputs": [],
   "source": [
    "class LoggingTensorBoard(TensorBoard):    \n",
    "\n",
    "    def __init__(self, log_dir, settings_str_to_log, **kwargs):\n",
    "        super(LoggingTensorBoard, self).__init__(log_dir, **kwargs)\n",
    "\n",
    "        self.settings_str = settings_str_to_log\n",
    "\n",
    "    def on_train_begin(self, logs=None):\n",
    "        TensorBoard.on_train_begin(self, logs=logs)"
   ]
  },
  {
   "cell_type": "markdown",
   "metadata": {},
   "source": [
    "# Preparing training and test set"
   ]
  },
  {
   "cell_type": "code",
   "execution_count": 8,
   "metadata": {},
   "outputs": [],
   "source": [
    "HDF5_PATH = '/home/gururajaramesh/completedata_withP10.hdf5'"
   ]
  },
  {
   "cell_type": "code",
   "execution_count": 9,
   "metadata": {},
   "outputs": [],
   "source": [
    "hdf=h5py.File(HDF5_PATH,'r')"
   ]
  },
  {
   "cell_type": "code",
   "execution_count": 11,
   "metadata": {},
   "outputs": [
    {
     "name": "stdout",
     "output_type": "stream",
     "text": [
      "(17884, 224, 224, 3) (17884, 224, 224, 3) (17884, 60) (17884, 9)\n",
      "(4665, 224, 224, 3) (4665, 224, 224, 3) (4665, 60) (4665, 9)\n",
      "(1381, 224, 224, 3) (1381, 224, 224, 3) (1381, 60) (1381, 9)\n"
     ]
    }
   ],
   "source": [
    "train_x1 = hdf[\"train/rawImages\"]\n",
    "train_x2 = hdf[\"train/flowImages\"]\n",
    "train_x3 = hdf[\"train/gazeData\"]\n",
    "train_y = hdf[\"train/labels\"]\n",
    "\n",
    "\n",
    "test_x1 = hdf[\"test/rawImages\"]\n",
    "test_x2 = hdf[\"test/flowImages\"]\n",
    "test_x3 = hdf[\"test/gazeData\"]\n",
    "test_y = hdf[\"test/labels\"]\n",
    "\n",
    "val_x1 = hdf[\"validation/rawImages\"]\n",
    "val_x2 = hdf[\"validation/flowImages\"]\n",
    "val_x3 = hdf[\"validation/gazeData\"]\n",
    "val_y = hdf[\"validation/labels\"]\n",
    "\n",
    "print(train_x1.shape, train_x2.shape, train_x3.shape, train_y.shape)\n",
    "print(test_x1.shape, test_x2.shape, test_x3.shape, test_y.shape)\n",
    "print(val_x1.shape, val_x2.shape, val_x3.shape, val_y.shape)"
   ]
  },
  {
   "cell_type": "markdown",
   "metadata": {},
   "source": [
    "# Training"
   ]
  },
  {
   "cell_type": "code",
   "execution_count": 12,
   "metadata": {},
   "outputs": [],
   "source": [
    "def myGenerator(set_name, batch_size):\n",
    "    \"\"\"\n",
    "    This generator returns normalized capacitive images (0..1) and the respective labels in mm.\n",
    "    \"\"\"\n",
    "    hdf = h5py.File(HDF5_PATH, \"r\")\n",
    "\n",
    "    pRawImages = hdf[set_name + \"/rawImages\"]\n",
    "    pFlowImages = hdf[set_name + \"/flowImages\"]\n",
    "    pLabels = hdf[set_name + \"/labels\"]\n",
    "\n",
    "    len_train = pRawImages.shape[0]\n",
    "    \n",
    "    randomBatchOrder = list(range(len_train-timesteps))\n",
    "       \n",
    "    while True:\n",
    "        np.random.shuffle(randomBatchOrder) \n",
    "        \n",
    "        for i in range(0, (len_train // (batch_size))-1):\n",
    "            frames = []\n",
    "            flow = []\n",
    "            labels = []\n",
    "            for j in range (batch_size):\n",
    "                idx = randomBatchOrder[i*batch_size+j]\n",
    "                shuffled1 = pRawImages[idx : idx+timesteps]\n",
    "                frames.append(shuffled1)\n",
    "                shuffled2 = pFlowImages[idx : idx+timesteps]\n",
    "                flow.append(shuffled2)\n",
    "                shuffled4 = pLabels[idx+timesteps]\n",
    "                labels.append(shuffled4)\n",
    "\n",
    "            yield [np.array(frames).reshape(-1,timesteps,224,224,3)/256, np.array(flow).reshape(-1,timesteps,224,224,3)/256], np.array(labels).reshape(-1,9)\n"
   ]
  },
  {
   "cell_type": "code",
   "execution_count": 13,
   "metadata": {},
   "outputs": [],
   "source": [
    "batch_size = 10\n",
    "classes = 9 \n",
    "\n",
    "#no.of.epochs\n",
    "epochs = 150\n",
    "\n",
    "# input image dimensions\n",
    "timesteps, rows, columns, channels = 5, 224, 224, 3"
   ]
  },
  {
   "cell_type": "code",
   "execution_count": 19,
   "metadata": {},
   "outputs": [],
   "source": [
    "#custom loss function for Multilabel Classification\n",
    "def multitask_loss(y_true, y_pred):\n",
    "    # Avoid divide by 0\n",
    "    y_pred = K.clip(y_pred, K.epsilon(), 1 - K.epsilon())\n",
    "    # Multi-task loss\n",
    "    return K.mean(K.sum(- y_true * K.log(y_pred) - (1 - y_true) * K.log(1 - y_pred), axis=1))"
   ]
  },
  {
   "cell_type": "code",
   "execution_count": null,
   "metadata": {
    "scrolled": true
   },
   "outputs": [
    {
     "name": "stderr",
     "output_type": "stream",
     "text": [
      "/usr/local/lib/python3.6/dist-packages/ipykernel_launcher.py:27: UserWarning: Update your `Model` call to the Keras 2 API: `Model(inputs=Tensor(\"in..., outputs=Tensor(\"gl...)`\n",
      "/usr/local/lib/python3.6/dist-packages/ipykernel_launcher.py:46: UserWarning: Update your `Dense` call to the Keras 2 API: `Dense(activation=\"relu\", units=200)`\n",
      "/usr/local/lib/python3.6/dist-packages/ipykernel_launcher.py:48: UserWarning: Update your `Dense` call to the Keras 2 API: `Dense(activation=\"relu\", units=100)`\n",
      "/usr/local/lib/python3.6/dist-packages/ipykernel_launcher.py:50: UserWarning: Update your `Dense` call to the Keras 2 API: `Dense(activation=\"sigmoid\", units=9)`\n"
     ]
    },
    {
     "name": "stdout",
     "output_type": "stream",
     "text": [
      "__________________________________________________________________________________________________\n",
      "Layer (type)                    Output Shape         Param #     Connected to                     \n",
      "==================================================================================================\n",
      "input_5 (InputLayer)            (None, 5, 224, 224,  0                                            \n",
      "__________________________________________________________________________________________________\n",
      "input_7 (InputLayer)            (None, 5, 224, 224,  0                                            \n",
      "__________________________________________________________________________________________________\n",
      "time_distributed_3 (TimeDistrib (None, 5, 512)       14714688    input_5[0][0]                    \n",
      "__________________________________________________________________________________________________\n",
      "time_distributed_4 (TimeDistrib (None, 5, 512)       14714688    input_7[0][0]                    \n",
      "__________________________________________________________________________________________________\n",
      "concatenate_2 (Concatenate)     (None, 5, 1024)      0           time_distributed_3[0][0]         \n",
      "                                                                 time_distributed_4[0][0]         \n",
      "__________________________________________________________________________________________________\n",
      "lstm_2 (LSTM)                   (None, 64)           278784      concatenate_2[0][0]              \n",
      "__________________________________________________________________________________________________\n",
      "dropout_2 (Dropout)             (None, 64)           0           lstm_2[0][0]                     \n",
      "__________________________________________________________________________________________________\n",
      "dense_2 (Dense)                 (None, 200)          13000       dropout_2[0][0]                  \n",
      "__________________________________________________________________________________________________\n",
      "dropout_3 (Dropout)             (None, 200)          0           dense_2[0][0]                    \n",
      "__________________________________________________________________________________________________\n",
      "dense_3 (Dense)                 (None, 100)          20100       dropout_3[0][0]                  \n",
      "__________________________________________________________________________________________________\n",
      "dropout_4 (Dropout)             (None, 100)          0           dense_3[0][0]                    \n",
      "__________________________________________________________________________________________________\n",
      "dense_4 (Dense)                 (None, 9)            909         dropout_4[0][0]                  \n",
      "==================================================================================================\n",
      "Total params: 29,742,169\n",
      "Trainable params: 312,793\n",
      "Non-trainable params: 29,429,376\n",
      "__________________________________________________________________________________________________\n",
      "RAW+FLOW_v01_Adam+LSTM8+D32+LSTM64+D200+D100+Sigmoid+NoSlidingWindow_20190207_111510\n",
      "Epoch 1/150\n",
      "357/357 [==============================] - 580s 2s/step - loss: 5.1600 - acc: 0.1064 - val_loss: 4.0825 - val_acc: 0.0925\n",
      "Epoch 2/150\n",
      "357/357 [==============================] - 590s 2s/step - loss: 4.2875 - acc: 0.1518 - val_loss: 3.8334 - val_acc: 0.1000\n",
      "Epoch 3/150\n",
      "357/357 [==============================] - 590s 2s/step - loss: 3.8515 - acc: 0.1745 - val_loss: 3.6136 - val_acc: 0.1086\n",
      "Epoch 4/150\n",
      "357/357 [==============================] - 582s 2s/step - loss: 3.5564 - acc: 0.2146 - val_loss: 3.3856 - val_acc: 0.1935\n",
      "Epoch 5/150\n",
      "146/357 [===========>..................] - ETA: 4:31 - loss: 3.4060 - acc: 0.2178"
     ]
    }
   ],
   "source": [
    "with tf.device('/device:GPU:0'):\n",
    "    config = tf.ConfigProto(log_device_placement = True, allow_soft_placement = True)\n",
    "    config.gpu_options.allow_growth=True\n",
    "    config.gpu_options.per_process_gpu_memory_fraction = 0.5\n",
    "    config.gpu_options.allocator_type = 'BFC'\n",
    "    \n",
    "    with tf.Session(config=config):\n",
    "        tf.get_default_graph()\n",
    "        #First VGG16 model for Raw RGB Image \n",
    "        RGB_Image = Input(shape=(timesteps, rows, columns, channels))\n",
    "\n",
    "        cnn_base = VGG16(input_shape=(rows,columns,channels), weights=\"imagenet\", include_top=False)\n",
    "\n",
    "        cnn_out = GlobalAveragePooling2D()(cnn_base.output)\n",
    "        cnn = Model(inputs=cnn_base.input, outputs=cnn_out)\n",
    "        for layer in cnn.layers:\n",
    "            layer.trainable=False\n",
    "\n",
    "        encoded_frames1 = TimeDistributed(cnn)(RGB_Image)\n",
    "\n",
    "\n",
    "        #second VGG16 model for Optical Flow Image \n",
    "        Flow_Image = Input(shape=(timesteps, rows,columns,channels))\n",
    "        cnn_flow = VGG16(input_shape=(rows,columns,channels), weights=\"imagenet\", include_top=False)\n",
    "        cnn_out2 = GlobalAveragePooling2D()(cnn_flow.output)\n",
    "\n",
    "        cnn2 = Model(input=cnn_flow.input, output=cnn_out2)\n",
    "        for layer in cnn2.layers:\n",
    "            layer.trainable=False\n",
    "\n",
    "        encoded_frames2 = TimeDistributed(cnn2)(Flow_Image)\n",
    "\n",
    "        #Concatenate the features from the two different modalities\n",
    "        merge = concatenate([encoded_frames1, encoded_frames2])\n",
    "\n",
    "        #Concatenated features are feed to the backend LSTM model for final activity prediction\n",
    "        encoded_sequence = LSTM(64)(merge)\n",
    "        encoded_sequence = Dropout(0.3)(encoded_sequence)\n",
    "        hidden_layer1 = Dense(output_dim=200, activation=\"relu\")(encoded_sequence)\n",
    "        hidden_layer1 = Dropout(0.5)(hidden_layer1)\n",
    "        hidden_layer2 = Dense(output_dim=100, activation=\"relu\")(hidden_layer1)\n",
    "        hidden_layer2 = Dropout(0.5)(hidden_layer2)\n",
    "        outputs = Dense(output_dim=classes, activation=\"sigmoid\")(hidden_layer2)\n",
    "        model = Model([RGB_Image, Flow_Image], outputs, name ='RAW+FLOW_v01_Adam+LSTM8+D32+LSTM64+D100+Sigmoid')\n",
    "        model.summary()\n",
    "\n",
    "        #Optimizer for the Neural Network\n",
    "        optimizer = keras.optimizers.Adam(lr=0.0001)\n",
    "        \n",
    "        #create the tensorboard file\n",
    "        readable_timestamp = datetime.datetime.fromtimestamp(time.time()).strftime('%Y%m%d_%H%M%S')\n",
    "        file_name = \"RAW+FLOW_v01_Adam+LSTM8+D32+LSTM64+D200+D100+Sigmoid+NoSlidingWindow_\" + readable_timestamp\n",
    "        print(file_name)\n",
    "        tensorboardFolder = \"/home/gururajaramesh/tensorboardfiles/\" + file_name\n",
    "        \n",
    "        # create callback\n",
    "        config = {\n",
    "            'token': '751130989:AAGKiP8ibYbR6CoXHz6eXE8mR2vcYO57dwM',   # paste your bot token\n",
    "            'telegram_id': 752166506,                                   # paste your telegram_id\n",
    "            'model_name': file_name,\n",
    "        }\n",
    "\n",
    "        #callback for Telegram\n",
    "        tg_callback = TelegramCallback(config)\n",
    "        \n",
    "        #callback for Tensorboard\n",
    "        tb_callback = LoggingTensorBoard(settings_str_to_log=config,\n",
    "                           log_dir=tensorboardFolder,\n",
    "                           histogram_freq=0,\n",
    "                           write_graph=True,\n",
    "                           write_images=True,\n",
    "                           update_freq='epoch'\n",
    "                          )\n",
    "        \n",
    "        #callback for Model Check Point\n",
    "        sm_callback = ModelCheckpoint(str(Path.home()) + \"/models/\"+ file_name + \".{epoch:04d}-{val_loss:.2f}.h5\",\n",
    "                            monitor='val_acc',\n",
    "                            verbose=0,\n",
    "                            save_best_only=True,\n",
    "                            save_weights_only=False\n",
    "                           )\n",
    "        \n",
    "        #compile the model\n",
    "        model.compile(loss=multitask_loss,\n",
    "                      optimizer=optimizer,\n",
    "                      metrics=[\"acc\"]) \n",
    "\n",
    "        #fit the compiled model\n",
    "        history = model.fit_generator(myGenerator(\"train\", batch_size),\n",
    "                    steps_per_epoch=len(train_x1) // (batch_size*timesteps),\n",
    "                    epochs=epochs,callbacks = [tg_callback, tb_callback, sm_callback],\n",
    "                    verbose=1,\n",
    "                    validation_data=myGenerator(\"test\", batch_size),\n",
    "                    validation_steps=len(test_x1) // (batch_size*timesteps))\n",
    "        \n",
    "        #predict using the trained model with the validation data\n",
    "        result = model.predict_generator(myGenerator(\"validation\", batch_size), steps=len(val_x1) // batch_size)"
   ]
  },
  {
   "cell_type": "code",
   "execution_count": null,
   "metadata": {},
   "outputs": [],
   "source": [
    "#plot for Training vs Test Accuracy\n",
    "plt.plot(history.history['val_acc'], label=\"Test Accuracy\")\n",
    "plt.plot(history.history['acc'], label=\"Training Accuracy\")\n",
    "plt.legend()\n",
    "plt.xlabel('epochs')\n",
    "plt.ylabel('Accuracy')\n",
    "plt.title('Training vs Test Accuracy')"
   ]
  },
  {
   "cell_type": "code",
   "execution_count": null,
   "metadata": {},
   "outputs": [],
   "source": [
    "#plot for Training vs Test Loss\n",
    "plt.plot(history.history['val_loss'], label=\"Test Loss\")\n",
    "plt.plot(history.history['loss'], label=\"Training Loss\")\n",
    "plt.legend()\n",
    "plt.xlabel('epochs')\n",
    "plt.ylabel('loss')\n",
    "plt.title('Training vs Test Loss')"
   ]
  },
  {
   "cell_type": "markdown",
   "metadata": {},
   "source": [
    "# Results"
   ]
  },
  {
   "cell_type": "code",
   "execution_count": 35,
   "metadata": {},
   "outputs": [],
   "source": [
    "#obtain predicted output in terms of one hot coding\n",
    "y_predict = np.copy(result)\n",
    "y_predict[y_predict>0.5]=1\n",
    "y_predict[y_predict<0.5]=0"
   ]
  },
  {
   "cell_type": "code",
   "execution_count": 37,
   "metadata": {
    "scrolled": true
   },
   "outputs": [
    {
     "name": "stdout",
     "output_type": "stream",
     "text": [
      "(1381, 1, 9)\n",
      "(1381, 9)\n",
      "(1380, 9)\n"
     ]
    },
    {
     "data": {
      "text/plain": [
       "array([[0, 0, 0, 0, 0, 1, 0, 0, 0],\n",
       "       [0, 0, 0, 0, 0, 1, 0, 0, 0],\n",
       "       [0, 0, 0, 1, 0, 0, 0, 0, 0],\n",
       "       [0, 0, 0, 1, 0, 0, 0, 0, 0],\n",
       "       [0, 0, 0, 0, 0, 0, 1, 0, 0],\n",
       "       [0, 0, 0, 0, 0, 0, 1, 0, 0],\n",
       "       [0, 0, 0, 0, 0, 0, 1, 0, 0],\n",
       "       [0, 0, 0, 0, 0, 0, 0, 0, 1],\n",
       "       [0, 0, 0, 1, 0, 0, 0, 0, 0],\n",
       "       [0, 0, 0, 1, 0, 0, 0, 0, 1],\n",
       "       [0, 0, 0, 1, 0, 0, 0, 0, 1],\n",
       "       [0, 0, 0, 1, 0, 1, 0, 0, 0],\n",
       "       [0, 0, 0, 0, 0, 0, 0, 0, 1],\n",
       "       [0, 0, 0, 1, 0, 1, 0, 0, 0],\n",
       "       [0, 0, 0, 1, 0, 1, 0, 0, 0],\n",
       "       [0, 0, 0, 1, 0, 1, 0, 0, 0],\n",
       "       [0, 0, 0, 1, 0, 0, 1, 0, 0],\n",
       "       [0, 0, 0, 1, 0, 0, 1, 0, 0],\n",
       "       [0, 0, 0, 0, 0, 0, 1, 0, 0],\n",
       "       [0, 0, 1, 0, 1, 0, 1, 0, 0],\n",
       "       [0, 0, 1, 0, 1, 0, 1, 0, 0],\n",
       "       [0, 0, 0, 0, 0, 0, 1, 0, 0],\n",
       "       [0, 0, 0, 1, 0, 0, 0, 0, 0],\n",
       "       [0, 0, 0, 1, 0, 0, 1, 0, 0],\n",
       "       [0, 0, 0, 1, 0, 0, 0, 0, 1],\n",
       "       [0, 0, 0, 1, 0, 0, 0, 0, 1],\n",
       "       [0, 0, 0, 1, 0, 0, 0, 0, 1],\n",
       "       [0, 0, 0, 1, 0, 0, 0, 0, 1],\n",
       "       [0, 0, 0, 1, 0, 0, 0, 0, 1],\n",
       "       [0, 0, 0, 1, 0, 1, 0, 0, 0],\n",
       "       [0, 0, 0, 1, 0, 1, 0, 0, 0],\n",
       "       [0, 0, 0, 1, 0, 0, 0, 0, 1],\n",
       "       [0, 0, 0, 1, 0, 0, 0, 0, 1],\n",
       "       [0, 0, 0, 1, 0, 0, 0, 0, 1],\n",
       "       [0, 0, 0, 0, 0, 0, 0, 1, 0],\n",
       "       [0, 0, 0, 0, 0, 0, 0, 1, 0],\n",
       "       [0, 0, 0, 0, 0, 0, 0, 1, 0],\n",
       "       [0, 0, 0, 0, 0, 0, 0, 1, 0],\n",
       "       [0, 0, 0, 0, 0, 0, 0, 1, 0],\n",
       "       [0, 0, 0, 0, 0, 0, 0, 1, 0],\n",
       "       [0, 0, 0, 0, 0, 0, 0, 1, 0],\n",
       "       [0, 0, 0, 0, 0, 0, 0, 1, 0],\n",
       "       [0, 0, 0, 0, 0, 0, 0, 1, 0],\n",
       "       [0, 1, 0, 0, 0, 0, 0, 1, 0],\n",
       "       [0, 1, 0, 0, 0, 0, 0, 1, 0],\n",
       "       [0, 1, 0, 0, 0, 0, 1, 1, 0],\n",
       "       [0, 1, 0, 0, 0, 0, 0, 1, 0],\n",
       "       [0, 1, 0, 0, 0, 0, 1, 1, 0],\n",
       "       [0, 1, 0, 0, 0, 0, 1, 1, 0]])"
      ]
     },
     "execution_count": 37,
     "metadata": {},
     "output_type": "execute_result"
    }
   ],
   "source": [
    "y_true = np.load('/home/gururajaramesh/P10data/LabelsP10.npy')\n",
    "print(y_true.shape)\n",
    "y_true = y_true.reshape(-1,9)\n",
    "print(y_true.shape)\n",
    "y_true1= y_true[0:1380,:]\n",
    "print(y_true1.shape)\n",
    "y_true[1:10]"
   ]
  },
  {
   "cell_type": "code",
   "execution_count": 38,
   "metadata": {},
   "outputs": [
    {
     "name": "stdout",
     "output_type": "stream",
     "text": [
      "\n",
      " Summary of the precision, recall, F1 score for each class:\n",
      "             precision    recall  f1-score   support\n",
      "\n",
      "          0       0.00      0.00      0.00        87\n",
      "          1       0.19      0.16      0.17       249\n",
      "          2       0.54      0.26      0.35       803\n",
      "          3       0.00      0.00      0.00        79\n",
      "          4       0.62      0.33      0.43       897\n",
      "          5       0.10      0.11      0.11       121\n",
      "          6       0.11      0.01      0.02       202\n",
      "          7       0.00      0.00      0.00       136\n",
      "          8       0.07      0.03      0.04       128\n",
      "\n",
      "avg / total       0.40      0.21      0.27      2702\n",
      "\n"
     ]
    },
    {
     "name": "stderr",
     "output_type": "stream",
     "text": [
      "/usr/local/lib/python3.6/dist-packages/sklearn/metrics/classification.py:1135: UndefinedMetricWarning: Precision and F-score are ill-defined and being set to 0.0 in labels with no predicted samples.\n",
      "  'precision', 'predicted', average, warn_for)\n"
     ]
    }
   ],
   "source": [
    "import sklearn\n",
    "\n",
    "#Classfication report for the predicted output\n",
    "print ('\\n Summary of the precision, recall, F1 score for each class:')\n",
    "print (sklearn.metrics.classification_report(y_true1, y_predict))"
   ]
  },
  {
   "cell_type": "code",
   "execution_count": 39,
   "metadata": {},
   "outputs": [
    {
     "name": "stdout",
     "output_type": "stream",
     "text": [
      "Hamming Loss: \n",
      "0.23051529790660225\n"
     ]
    }
   ],
   "source": [
    "#Hamming loss of the predicted output\n",
    "print ('Hamming Loss: ')\n",
    "print(sklearn.metrics.hamming_loss(y_true1, y_predict))"
   ]
  },
  {
   "cell_type": "code",
   "execution_count": 46,
   "metadata": {},
   "outputs": [
    {
     "name": "stdout",
     "output_type": "stream",
     "text": [
      "Found new pattern : [0. 0. 0. 0. 0. 0. 0. 0. 0.]\n",
      "[0. 0. 0. 0. 0. 0. 0. 0. 0.] pattern found 607 times\n",
      "Found new pattern : [0. 0. 1. 0. 1. 0. 0. 0. 0.]\n",
      "[0. 0. 1. 0. 1. 0. 0. 0. 0.] pattern found 264 times\n",
      "Found new pattern : [0. 1. 0. 0. 0. 0. 0. 0. 0.]\n",
      "[0. 1. 0. 0. 0. 0. 0. 0. 0.] pattern found 212 times\n",
      "Found new pattern : [0. 0. 0. 0. 1. 0. 0. 0. 0.]\n",
      "[0. 0. 0. 0. 1. 0. 0. 0. 0.] pattern found 89 times\n",
      "Found new pattern : [0. 0. 1. 0. 1. 1. 0. 0. 0.]\n",
      "[0. 0. 1. 0. 1. 1. 0. 0. 0.] pattern found 121 times\n",
      "Found new pattern : [0. 0. 0. 0. 0. 0. 0. 0. 1.]\n",
      "[0. 0. 0. 0. 0. 0. 0. 0. 1.] pattern found 56 times\n",
      "Found new pattern : [0. 0. 0. 1. 0. 0. 0. 0. 0.]\n",
      "[0. 0. 0. 1. 0. 0. 0. 0. 0.] pattern found 7 times\n",
      "Found new pattern : [0. 0. 0. 0. 0. 0. 1. 0. 0.]\n",
      "[0. 0. 0. 0. 0. 0. 1. 0. 0.] pattern found 18 times\n",
      "Found new pattern : [1. 0. 0. 1. 0. 0. 0. 0. 0.]\n",
      "[1. 0. 0. 1. 0. 0. 0. 0. 0.] pattern found 3 times\n",
      "Found new pattern : [0. 0. 0. 0. 1. 1. 0. 0. 0.]\n",
      "[0. 0. 0. 0. 1. 1. 0. 0. 0.] pattern found 3 times\n"
     ]
    }
   ],
   "source": [
    "#to find the number of different patterns in the predicted output\n",
    "y_true = np.copy(y_predict)\n",
    "firsttime = True\n",
    "patternlist = []\n",
    "countlist = []\n",
    "for i in range(y_true.shape[0]):\n",
    "    if(firsttime):\n",
    "        curr_pattern = y_true[0,:]\n",
    "        print('Found new pattern : %s' % curr_pattern)\n",
    "        patternlist.append(curr_pattern)\n",
    "        count = 0\n",
    "        for j in range(y_true.shape[0]):\n",
    "            #check if the pattern is same as the curr.pattern and increase count if not continue\n",
    "            if(np.array_equal(curr_pattern, y_true[j,:])):\n",
    "                count =  count + 1\n",
    "            else:\n",
    "                continue\n",
    "        countlist.append(count)\n",
    "        firsttime = False\n",
    "        print('%s pattern found %s times' % (curr_pattern, count))\n",
    "    else:\n",
    "        curr_pattern = y_true[i,:]\n",
    "        new_pattern = False\n",
    "        already_present= False\n",
    "        #check if curr_pattern is in patternlist\n",
    "        for k in range(len(patternlist)):\n",
    "            if(np.array_equal(curr_pattern, patternlist[k])):\n",
    "                already_present = True\n",
    "                break\n",
    "            else:\n",
    "                continue\n",
    "        if(already_present):\n",
    "            new_pattern = False\n",
    "        else:\n",
    "            new_pattern = True\n",
    "        #if it is a new pattern  then count its occurance    \n",
    "        if(new_pattern):\n",
    "            print('Found new pattern : %s' % curr_pattern)\n",
    "            patternlist.append(curr_pattern)\n",
    "            count = 0\n",
    "            for j in range(y_true.shape[0]):\n",
    "                if(np.array_equal(curr_pattern, y_true[j,:])):\n",
    "                    count = count + 1\n",
    "                else:\n",
    "                    continue\n",
    "            countlist.append(count)\n",
    "            print('%s pattern found %s times' % (curr_pattern, count))        "
   ]
  },
  {
   "cell_type": "code",
   "execution_count": 50,
   "metadata": {
    "scrolled": true
   },
   "outputs": [
    {
     "data": {
      "image/png": "[encoded data removed]",
      "text/plain": [
       "<Figure size 432x288 with 1 Axes>"
      ]
     },
     "metadata": {},
     "output_type": "display_data"
    }
   ],
   "source": [
    "#plot the No.of Samples vs Types of patters\n",
    "x1 = list(range(len(countlist)))\n",
    "plt.bar(x1, countlist)\n",
    "plt.xlabel('Types of Patterns', fontsize=10)\n",
    "plt.ylabel('No. of Samples', fontsize=10)\n",
    "plt.title('Long Term Dataset')\n",
    "plt.show()"
   ]
  },
  {
   "cell_type": "code",
   "execution_count": null,
   "metadata": {},
   "outputs": [],
   "source": [
    "#close the HDF5 file\n",
    "hdf.close()"
   ]
  },
  {
   "cell_type": "code",
   "execution_count": null,
   "metadata": {},
   "outputs": [],
   "source": [
    "#save the trained model as HDF5 file\n",
    "model.save(\"Raw+Flow_Adam.h5\")"
   ]
  }
 ],
 "metadata": {
  "kernelspec": {
   "display_name": "Python 3",
   "language": "python",
   "name": "python3"
  },
  "language_info": {
   "codemirror_mode": {
    "name": "ipython",
    "version": 3
   },
   "file_extension": ".py",
   "mimetype": "text/x-python",
   "name": "python",
   "nbconvert_exporter": "python",
   "pygments_lexer": "ipython3",
   "version": "3.6.7"
  }
 },
 "nbformat": 4,
 "nbformat_minor": 2
}
